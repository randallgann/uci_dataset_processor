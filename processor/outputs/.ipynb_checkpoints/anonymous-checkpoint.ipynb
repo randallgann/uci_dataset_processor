{
 "cells": [
  {
   "cell_type": "code",
   "execution_count": 1,
   "id": "9211729b",
   "metadata": {
    "execution": {
     "iopub.execute_input": "2022-01-04T03:52:04.518182Z",
     "iopub.status.busy": "2022-01-04T03:52:04.517257Z",
     "iopub.status.idle": "2022-01-04T03:52:05.265408Z",
     "shell.execute_reply": "2022-01-04T03:52:05.264507Z"
    },
    "papermill": {
     "duration": 0.771425,
     "end_time": "2022-01-04T03:52:05.265616",
     "exception": false,
     "start_time": "2022-01-04T03:52:04.494191",
     "status": "completed"
    },
    "tags": []
   },
   "outputs": [],
   "source": [
    "import numpy as np\n",
    "import pandas as pd\n",
    "import seaborn as sns\n",
    "import matplotlib.pyplot as plt\n",
    "%matplotlib inline\n",
    "\n",
    "import scipy.stats as stats"
   ]
  },
  {
   "cell_type": "code",
   "execution_count": 2,
   "id": "70cd9d5b",
   "metadata": {
    "execution": {
     "iopub.execute_input": "2022-01-04T03:52:05.288568Z",
     "iopub.status.busy": "2022-01-04T03:52:05.286978Z",
     "iopub.status.idle": "2022-01-04T03:52:05.290102Z",
     "shell.execute_reply": "2022-01-04T03:52:05.291223Z"
    },
    "papermill": {
     "duration": 0.016051,
     "end_time": "2022-01-04T03:52:05.291525",
     "exception": false,
     "start_time": "2022-01-04T03:52:05.275474",
     "status": "completed"
    },
    "tags": [
     "parameters"
    ]
   },
   "outputs": [],
   "source": [
    "inputs = []\n",
    "#file1 = '../data/Processed_DJI.csv'"
   ]
  },
  {
   "cell_type": "code",
   "execution_count": 3,
   "id": "6f0dae05",
   "metadata": {
    "execution": {
     "iopub.execute_input": "2022-01-04T03:52:05.309493Z",
     "iopub.status.busy": "2022-01-04T03:52:05.309030Z",
     "iopub.status.idle": "2022-01-04T03:52:05.312861Z",
     "shell.execute_reply": "2022-01-04T03:52:05.311959Z"
    },
    "papermill": {
     "duration": 0.015708,
     "end_time": "2022-01-04T03:52:05.313038",
     "exception": false,
     "start_time": "2022-01-04T03:52:05.297330",
     "status": "completed"
    },
    "tags": [
     "injected-parameters"
    ]
   },
   "outputs": [],
   "source": [
    "# Parameters\n",
    "inputs = [\"anonymous-msweb.data\", \"anonymous-msweb.info\", \"anonymous-msweb.test\"]\n"
   ]
  },
  {
   "cell_type": "code",
   "execution_count": 4,
   "id": "de7787b6",
   "metadata": {
    "execution": {
     "iopub.execute_input": "2022-01-04T03:52:05.331970Z",
     "iopub.status.busy": "2022-01-04T03:52:05.331387Z",
     "iopub.status.idle": "2022-01-04T03:52:05.336280Z",
     "shell.execute_reply": "2022-01-04T03:52:05.335789Z"
    },
    "papermill": {
     "duration": 0.015372,
     "end_time": "2022-01-04T03:52:05.336394",
     "exception": false,
     "start_time": "2022-01-04T03:52:05.321022",
     "status": "completed"
    },
    "tags": []
   },
   "outputs": [
    {
     "name": "stdout",
     "output_type": "stream",
     "text": [
      "['anonymous-msweb.data', 'anonymous-msweb.info', 'anonymous-msweb.test']\n"
     ]
    }
   ],
   "source": [
    "print(inputs)"
   ]
  },
  {
   "cell_type": "code",
   "execution_count": 8,
   "id": "77fd3bc3",
   "metadata": {},
   "outputs": [
    {
     "name": "stdout",
     "output_type": "stream",
     "text": [
      "/home/randall/Dev/uci_dataset_processor/processor/outputs\r\n"
     ]
    }
   ],
   "source": [
    "!pwd"
   ]
  },
  {
   "cell_type": "code",
   "execution_count": 9,
   "id": "6292b640",
   "metadata": {
    "papermill": {
     "duration": 0.006248,
     "end_time": "2022-01-04T03:52:05.349967",
     "exception": false,
     "start_time": "2022-01-04T03:52:05.343719",
     "status": "completed"
    },
    "tags": []
   },
   "outputs": [
    {
     "name": "stderr",
     "output_type": "stream",
     "text": [
      "/usr/lib/python3/dist-packages/IPython/core/interactiveshell.py:3331: DtypeWarning: Columns (2,3,4,5) have mixed types.Specify dtype option on import or set low_memory=False.\n",
      "  exec(code_obj, self.user_global_ns, self.user_ns)\n"
     ]
    },
    {
     "data": {
      "text/html": [
       "<div>\n",
       "<style scoped>\n",
       "    .dataframe tbody tr th:only-of-type {\n",
       "        vertical-align: middle;\n",
       "    }\n",
       "\n",
       "    .dataframe tbody tr th {\n",
       "        vertical-align: top;\n",
       "    }\n",
       "\n",
       "    .dataframe thead th {\n",
       "        text-align: right;\n",
       "    }\n",
       "</style>\n",
       "<table border=\"1\" class=\"dataframe\">\n",
       "  <thead>\n",
       "    <tr style=\"text-align: right;\">\n",
       "      <th></th>\n",
       "      <th></th>\n",
       "      <th>I</th>\n",
       "      <th>4</th>\n",
       "      <th>www.microsoft.com</th>\n",
       "      <th>created by getlog.pl</th>\n",
       "    </tr>\n",
       "  </thead>\n",
       "  <tbody>\n",
       "    <tr>\n",
       "      <th>T</th>\n",
       "      <th>1</th>\n",
       "      <td>VRoot</td>\n",
       "      <td>0</td>\n",
       "      <td>0</td>\n",
       "      <td>VRoot</td>\n",
       "    </tr>\n",
       "    <tr>\n",
       "      <th rowspan=\"2\" valign=\"top\">N</th>\n",
       "      <th>0</th>\n",
       "      <td>0</td>\n",
       "      <td>NaN</td>\n",
       "      <td>NaN</td>\n",
       "      <td>NaN</td>\n",
       "    </tr>\n",
       "    <tr>\n",
       "      <th>1</th>\n",
       "      <td>1</td>\n",
       "      <td>NaN</td>\n",
       "      <td>NaN</td>\n",
       "      <td>NaN</td>\n",
       "    </tr>\n",
       "    <tr>\n",
       "      <th>T</th>\n",
       "      <th>2</th>\n",
       "      <td>Hide1</td>\n",
       "      <td>0</td>\n",
       "      <td>0</td>\n",
       "      <td>Hide</td>\n",
       "    </tr>\n",
       "    <tr>\n",
       "      <th>N</th>\n",
       "      <th>0</th>\n",
       "      <td>0</td>\n",
       "      <td>NaN</td>\n",
       "      <td>NaN</td>\n",
       "      <td>NaN</td>\n",
       "    </tr>\n",
       "    <tr>\n",
       "      <th>...</th>\n",
       "      <th>...</th>\n",
       "      <td>...</td>\n",
       "      <td>...</td>\n",
       "      <td>...</td>\n",
       "      <td>...</td>\n",
       "    </tr>\n",
       "    <tr>\n",
       "      <th rowspan=\"3\" valign=\"top\">V</th>\n",
       "      <th>1035</th>\n",
       "      <td>1</td>\n",
       "      <td>NaN</td>\n",
       "      <td>NaN</td>\n",
       "      <td>NaN</td>\n",
       "    </tr>\n",
       "    <tr>\n",
       "      <th>1001</th>\n",
       "      <td>1</td>\n",
       "      <td>NaN</td>\n",
       "      <td>NaN</td>\n",
       "      <td>NaN</td>\n",
       "    </tr>\n",
       "    <tr>\n",
       "      <th>1018</th>\n",
       "      <td>1</td>\n",
       "      <td>NaN</td>\n",
       "      <td>NaN</td>\n",
       "      <td>NaN</td>\n",
       "    </tr>\n",
       "    <tr>\n",
       "      <th>C</th>\n",
       "      <th>42711</th>\n",
       "      <td>42711</td>\n",
       "      <td>NaN</td>\n",
       "      <td>NaN</td>\n",
       "      <td>NaN</td>\n",
       "    </tr>\n",
       "    <tr>\n",
       "      <th>V</th>\n",
       "      <th>1008</th>\n",
       "      <td>1</td>\n",
       "      <td>NaN</td>\n",
       "      <td>NaN</td>\n",
       "      <td>NaN</td>\n",
       "    </tr>\n",
       "  </tbody>\n",
       "</table>\n",
       "<p>131665 rows × 4 columns</p>\n",
       "</div>"
      ],
      "text/plain": [
       "             I    4 www.microsoft.com created by getlog.pl\n",
       "T 1      VRoot    0                 0                VRoot\n",
       "N 0          0  NaN               NaN                  NaN\n",
       "  1          1  NaN               NaN                  NaN\n",
       "T 2      Hide1    0                 0                 Hide\n",
       "N 0          0  NaN               NaN                  NaN\n",
       "...        ...  ...               ...                  ...\n",
       "V 1035       1  NaN               NaN                  NaN\n",
       "  1001       1  NaN               NaN                  NaN\n",
       "  1018       1  NaN               NaN                  NaN\n",
       "C 42711  42711  NaN               NaN                  NaN\n",
       "V 1008       1  NaN               NaN                  NaN\n",
       "\n",
       "[131665 rows x 4 columns]"
      ]
     },
     "execution_count": 9,
     "metadata": {},
     "output_type": "execute_result"
    }
   ],
   "source": [
    "pd.read_csv('/home/randall/Dev/uci_dataset_processor/data/anonymous/anonymous-msweb.data')"
   ]
  },
  {
   "cell_type": "code",
   "execution_count": null,
   "id": "bf82eeeb",
   "metadata": {},
   "outputs": [],
   "source": []
  }
 ],
 "metadata": {
  "celltoolbar": "Tags",
  "interpreter": {
   "hash": "31f2aee4e71d21fbe5cf8b01ff0e069b9275f58929596ceb00d14d90e3e16cd6"
  },
  "kernelspec": {
   "display_name": "Python 3",
   "language": "python",
   "name": "python3"
  },
  "language_info": {
   "codemirror_mode": {
    "name": "ipython",
    "version": 3
   },
   "file_extension": ".py",
   "mimetype": "text/x-python",
   "name": "python",
   "nbconvert_exporter": "python",
   "pygments_lexer": "ipython3",
   "version": "3.8.10"
  },
  "papermill": {
   "default_parameters": {},
   "duration": 2.114926,
   "end_time": "2022-01-04T03:52:05.765238",
   "environment_variables": {},
   "exception": null,
   "input_path": "/home/randall/Dev/uci_dataset_processor/processor/inputs/uci_template.ipynb",
   "output_path": "/home/randall/Dev/uci_dataset_processor/processor/outputs/anonymous.ipynb",
   "parameters": {
    "inputs": [
     "anonymous-msweb.data",
     "anonymous-msweb.info",
     "anonymous-msweb.test"
    ]
   },
   "start_time": "2022-01-04T03:52:03.650312",
   "version": "2.3.3"
  }
 },
 "nbformat": 4,
 "nbformat_minor": 5
}
