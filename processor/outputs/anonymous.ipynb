{
 "cells": [
  {
   "cell_type": "code",
   "execution_count": 1,
   "id": "c7860a7d",
   "metadata": {
    "execution": {
     "iopub.execute_input": "2022-01-17T16:24:13.287724Z",
     "iopub.status.busy": "2022-01-17T16:24:13.287076Z",
     "iopub.status.idle": "2022-01-17T16:24:14.064641Z",
     "shell.execute_reply": "2022-01-17T16:24:14.063142Z"
    },
    "papermill": {
     "duration": 0.794682,
     "end_time": "2022-01-17T16:24:14.064944",
     "exception": false,
     "start_time": "2022-01-17T16:24:13.270262",
     "status": "completed"
    },
    "tags": []
   },
   "outputs": [],
   "source": [
    "import numpy as np\n",
    "import pandas as pd\n",
    "import seaborn as sns\n",
    "import matplotlib.pyplot as plt\n",
    "%matplotlib inline\n",
    "\n",
    "import scipy.stats as stats"
   ]
  },
  {
   "cell_type": "code",
   "execution_count": 2,
   "id": "d9613101",
   "metadata": {
    "execution": {
     "iopub.execute_input": "2022-01-17T16:24:14.085186Z",
     "iopub.status.busy": "2022-01-17T16:24:14.084680Z",
     "iopub.status.idle": "2022-01-17T16:24:14.087084Z",
     "shell.execute_reply": "2022-01-17T16:24:14.087552Z"
    },
    "papermill": {
     "duration": 0.013151,
     "end_time": "2022-01-17T16:24:14.087724",
     "exception": false,
     "start_time": "2022-01-17T16:24:14.074573",
     "status": "completed"
    },
    "tags": [
     "parameters"
    ]
   },
   "outputs": [],
   "source": [
    "inputs = []\n",
    "#file1 = '../data/Processed_DJI.csv'"
   ]
  },
  {
   "cell_type": "code",
   "execution_count": 3,
   "id": "5fdb1494",
   "metadata": {
    "execution": {
     "iopub.execute_input": "2022-01-17T16:24:14.105566Z",
     "iopub.status.busy": "2022-01-17T16:24:14.104885Z",
     "iopub.status.idle": "2022-01-17T16:24:14.108498Z",
     "shell.execute_reply": "2022-01-17T16:24:14.107726Z"
    },
    "papermill": {
     "duration": 0.01516,
     "end_time": "2022-01-17T16:24:14.108641",
     "exception": false,
     "start_time": "2022-01-17T16:24:14.093481",
     "status": "completed"
    },
    "tags": [
     "injected-parameters"
    ]
   },
   "outputs": [],
   "source": [
    "# Parameters\n",
    "inputs = [\"anonymous-msweb.data\", \"anonymous-msweb.info\", \"anonymous-msweb.test\"]\n"
   ]
  },
  {
   "cell_type": "code",
   "execution_count": 4,
   "id": "be87029a",
   "metadata": {
    "execution": {
     "iopub.execute_input": "2022-01-17T16:24:14.123731Z",
     "iopub.status.busy": "2022-01-17T16:24:14.123235Z",
     "iopub.status.idle": "2022-01-17T16:24:14.127971Z",
     "shell.execute_reply": "2022-01-17T16:24:14.128362Z"
    },
    "papermill": {
     "duration": 0.01268,
     "end_time": "2022-01-17T16:24:14.128465",
     "exception": false,
     "start_time": "2022-01-17T16:24:14.115785",
     "status": "completed"
    },
    "tags": []
   },
   "outputs": [
    {
     "name": "stdout",
     "output_type": "stream",
     "text": [
      "['anonymous-msweb.data', 'anonymous-msweb.info', 'anonymous-msweb.test']\n"
     ]
    }
   ],
   "source": [
    "print(inputs)"
   ]
  },
  {
   "cell_type": "code",
   "execution_count": null,
   "id": "625bd634",
   "metadata": {
    "papermill": {
     "duration": 0.007546,
     "end_time": "2022-01-17T16:24:14.142329",
     "exception": false,
     "start_time": "2022-01-17T16:24:14.134783",
     "status": "completed"
    },
    "tags": []
   },
   "outputs": [],
   "source": []
  }
 ],
 "metadata": {
  "celltoolbar": "Tags",
  "interpreter": {
   "hash": "31f2aee4e71d21fbe5cf8b01ff0e069b9275f58929596ceb00d14d90e3e16cd6"
  },
  "kernelspec": {
   "display_name": "Python 3",
   "language": "python",
   "name": "python3"
  },
  "language_info": {
   "codemirror_mode": {
    "name": "ipython",
    "version": 3
   },
   "file_extension": ".py",
   "mimetype": "text/x-python",
   "name": "python",
   "nbconvert_exporter": "python",
   "pygments_lexer": "ipython3",
   "version": "3.8.10"
  },
  "papermill": {
   "default_parameters": {},
   "duration": 2.134921,
   "end_time": "2022-01-17T16:24:14.559624",
   "environment_variables": {},
   "exception": null,
   "input_path": "/home/randall/Dev/uci_dataset_processor/processor/inputs/uci_template.ipynb",
   "output_path": "/home/randall/Dev/uci_dataset_processor/processor/outputs/anonymous.ipynb",
   "parameters": {
    "inputs": [
     "anonymous-msweb.data",
     "anonymous-msweb.info",
     "anonymous-msweb.test"
    ]
   },
   "start_time": "2022-01-17T16:24:12.424703",
   "version": "2.3.3"
  }
 },
 "nbformat": 4,
 "nbformat_minor": 5
}